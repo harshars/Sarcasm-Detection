{
 "cells": [
  {
   "cell_type": "code",
   "execution_count": 114,
   "metadata": {},
   "outputs": [],
   "source": [
    "import pandas as pd\n",
    "import numpy as np\n",
    "import re\n",
    "import string\n",
    "from sklearn.cross_validation import train_test_split\n",
    "from sklearn.feature_extraction.text import CountVectorizer, TfidfVectorizer\n",
    "from nltk.stem import WordNetLemmatizer\n",
    "from scipy.sparse import hstack\n",
    "from nltk.sentiment.vader import SentimentIntensityAnalyzer\n",
    "from nltk.tokenize import word_tokenize\n",
    "import textblob\n",
    "\n",
    "#Importing NB Classifier\n",
    "from sklearn.naive_bayes import MultinomialNB\n",
    "\n",
    "#Importing logistic regression Classifier\n",
    "from sklearn.linear_model import LogisticRegression\n",
    "\n",
    "from sklearn.ensemble import GradientBoostingClassifier,RandomForestClassifier\n",
    "\n",
    "\n",
    "from sklearn import metrics\n",
    "from sklearn.metrics import accuracy_score,precision_score,recall_score"
   ]
  },
  {
   "cell_type": "code",
   "execution_count": 115,
   "metadata": {
    "collapsed": true
   },
   "outputs": [],
   "source": [
    "data = pd.read_csv(\"train_sarcasm.csv\")"
   ]
  },
  {
   "cell_type": "code",
   "execution_count": 116,
   "metadata": {},
   "outputs": [
    {
     "data": {
      "text/plain": [
       "(91298, 3)"
      ]
     },
     "execution_count": 116,
     "metadata": {},
     "output_type": "execute_result"
    }
   ],
   "source": [
    "data.shape"
   ]
  },
  {
   "cell_type": "code",
   "execution_count": 117,
   "metadata": {},
   "outputs": [
    {
     "data": {
      "text/plain": [
       "Index([u'ID', u'tweet', u'label'], dtype='object')"
      ]
     },
     "execution_count": 117,
     "metadata": {},
     "output_type": "execute_result"
    }
   ],
   "source": [
    "data.columns"
   ]
  },
  {
   "cell_type": "code",
   "execution_count": 118,
   "metadata": {},
   "outputs": [
    {
     "data": {
      "text/html": [
       "<div>\n",
       "<style>\n",
       "    .dataframe thead tr:only-child th {\n",
       "        text-align: right;\n",
       "    }\n",
       "\n",
       "    .dataframe thead th {\n",
       "        text-align: left;\n",
       "    }\n",
       "\n",
       "    .dataframe tbody tr th {\n",
       "        vertical-align: top;\n",
       "    }\n",
       "</style>\n",
       "<table border=\"1\" class=\"dataframe\">\n",
       "  <thead>\n",
       "    <tr style=\"text-align: right;\">\n",
       "      <th></th>\n",
       "      <th>ID</th>\n",
       "      <th>tweet</th>\n",
       "      <th>label</th>\n",
       "    </tr>\n",
       "  </thead>\n",
       "  <tbody>\n",
       "    <tr>\n",
       "      <th>0</th>\n",
       "      <td>T000452358</td>\n",
       "      <td>b'oh yea that makes sense '</td>\n",
       "      <td>sarcastic</td>\n",
       "    </tr>\n",
       "    <tr>\n",
       "      <th>1</th>\n",
       "      <td>T000452359</td>\n",
       "      <td>Estas enfermedad a un cargo poltico tu como pb...</td>\n",
       "      <td>sarcastic</td>\n",
       "    </tr>\n",
       "    <tr>\n",
       "      <th>2</th>\n",
       "      <td>T000452360</td>\n",
       "      <td>@alleygirl2409 until i\\'m and all the old men ...</td>\n",
       "      <td>sarcastic</td>\n",
       "    </tr>\n",
       "    <tr>\n",
       "      <th>3</th>\n",
       "      <td>T000452361</td>\n",
       "      <td>b\"@sarinas it had been chanted peacefully you ...</td>\n",
       "      <td>sarcastic</td>\n",
       "    </tr>\n",
       "    <tr>\n",
       "      <th>4</th>\n",
       "      <td>T000452362</td>\n",
       "      <td>b\"there's nothing like being on vacation and h...</td>\n",
       "      <td>sarcastic</td>\n",
       "    </tr>\n",
       "  </tbody>\n",
       "</table>\n",
       "</div>"
      ],
      "text/plain": [
       "           ID                                              tweet      label\n",
       "0  T000452358                        b'oh yea that makes sense '  sarcastic\n",
       "1  T000452359  Estas enfermedad a un cargo poltico tu como pb...  sarcastic\n",
       "2  T000452360  @alleygirl2409 until i\\'m and all the old men ...  sarcastic\n",
       "3  T000452361  b\"@sarinas it had been chanted peacefully you ...  sarcastic\n",
       "4  T000452362  b\"there's nothing like being on vacation and h...  sarcastic"
      ]
     },
     "execution_count": 118,
     "metadata": {},
     "output_type": "execute_result"
    }
   ],
   "source": [
    "data.head()"
   ]
  },
  {
   "cell_type": "code",
   "execution_count": 119,
   "metadata": {
    "collapsed": true
   },
   "outputs": [],
   "source": [
    "data['label1'] = np.where(data['label']==\"sarcastic\",1,0)"
   ]
  },
  {
   "cell_type": "code",
   "execution_count": 120,
   "metadata": {},
   "outputs": [
    {
     "data": {
      "text/html": [
       "<div>\n",
       "<style>\n",
       "    .dataframe thead tr:only-child th {\n",
       "        text-align: right;\n",
       "    }\n",
       "\n",
       "    .dataframe thead th {\n",
       "        text-align: left;\n",
       "    }\n",
       "\n",
       "    .dataframe tbody tr th {\n",
       "        vertical-align: top;\n",
       "    }\n",
       "</style>\n",
       "<table border=\"1\" class=\"dataframe\">\n",
       "  <thead>\n",
       "    <tr style=\"text-align: right;\">\n",
       "      <th></th>\n",
       "      <th>ID</th>\n",
       "      <th>tweet</th>\n",
       "      <th>label</th>\n",
       "      <th>label1</th>\n",
       "    </tr>\n",
       "  </thead>\n",
       "  <tbody>\n",
       "    <tr>\n",
       "      <th>0</th>\n",
       "      <td>T000452358</td>\n",
       "      <td>b'oh yea that makes sense '</td>\n",
       "      <td>sarcastic</td>\n",
       "      <td>1</td>\n",
       "    </tr>\n",
       "    <tr>\n",
       "      <th>1</th>\n",
       "      <td>T000452359</td>\n",
       "      <td>Estas enfermedad a un cargo poltico tu como pb...</td>\n",
       "      <td>sarcastic</td>\n",
       "      <td>1</td>\n",
       "    </tr>\n",
       "    <tr>\n",
       "      <th>2</th>\n",
       "      <td>T000452360</td>\n",
       "      <td>@alleygirl2409 until i\\'m and all the old men ...</td>\n",
       "      <td>sarcastic</td>\n",
       "      <td>1</td>\n",
       "    </tr>\n",
       "    <tr>\n",
       "      <th>3</th>\n",
       "      <td>T000452361</td>\n",
       "      <td>b\"@sarinas it had been chanted peacefully you ...</td>\n",
       "      <td>sarcastic</td>\n",
       "      <td>1</td>\n",
       "    </tr>\n",
       "    <tr>\n",
       "      <th>4</th>\n",
       "      <td>T000452362</td>\n",
       "      <td>b\"there's nothing like being on vacation and h...</td>\n",
       "      <td>sarcastic</td>\n",
       "      <td>1</td>\n",
       "    </tr>\n",
       "  </tbody>\n",
       "</table>\n",
       "</div>"
      ],
      "text/plain": [
       "           ID                                              tweet      label  \\\n",
       "0  T000452358                        b'oh yea that makes sense '  sarcastic   \n",
       "1  T000452359  Estas enfermedad a un cargo poltico tu como pb...  sarcastic   \n",
       "2  T000452360  @alleygirl2409 until i\\'m and all the old men ...  sarcastic   \n",
       "3  T000452361  b\"@sarinas it had been chanted peacefully you ...  sarcastic   \n",
       "4  T000452362  b\"there's nothing like being on vacation and h...  sarcastic   \n",
       "\n",
       "   label1  \n",
       "0       1  \n",
       "1       1  \n",
       "2       1  \n",
       "3       1  \n",
       "4       1  "
      ]
     },
     "execution_count": 120,
     "metadata": {},
     "output_type": "execute_result"
    }
   ],
   "source": [
    "data.head()"
   ]
  },
  {
   "cell_type": "code",
   "execution_count": 121,
   "metadata": {},
   "outputs": [
    {
     "data": {
      "text/plain": [
       "1    51300\n",
       "0    39998\n",
       "Name: label1, dtype: int64"
      ]
     },
     "execution_count": 121,
     "metadata": {},
     "output_type": "execute_result"
    }
   ],
   "source": [
    "data.label1.value_counts()"
   ]
  },
  {
   "cell_type": "code",
   "execution_count": 122,
   "metadata": {},
   "outputs": [
    {
     "data": {
      "text/html": [
       "<div>\n",
       "<style>\n",
       "    .dataframe thead tr:only-child th {\n",
       "        text-align: right;\n",
       "    }\n",
       "\n",
       "    .dataframe thead th {\n",
       "        text-align: left;\n",
       "    }\n",
       "\n",
       "    .dataframe tbody tr th {\n",
       "        vertical-align: top;\n",
       "    }\n",
       "</style>\n",
       "<table border=\"1\" class=\"dataframe\">\n",
       "  <thead>\n",
       "    <tr style=\"text-align: right;\">\n",
       "      <th></th>\n",
       "      <th>ID</th>\n",
       "      <th>tweet</th>\n",
       "      <th>label</th>\n",
       "      <th>label1</th>\n",
       "    </tr>\n",
       "  </thead>\n",
       "  <tbody>\n",
       "    <tr>\n",
       "      <th>0</th>\n",
       "      <td>T000452358</td>\n",
       "      <td>oh yea that make sense '</td>\n",
       "      <td>sarcastic</td>\n",
       "      <td>1</td>\n",
       "    </tr>\n",
       "    <tr>\n",
       "      <th>1</th>\n",
       "      <td>T000452359</td>\n",
       "      <td>Estas enfermedad a un cargo poltico tu como pb...</td>\n",
       "      <td>sarcastic</td>\n",
       "      <td>1</td>\n",
       "    </tr>\n",
       "    <tr>\n",
       "      <th>2</th>\n",
       "      <td>T000452360</td>\n",
       "      <td>until i\\'m and all the old men will finally da...</td>\n",
       "      <td>sarcastic</td>\n",
       "      <td>1</td>\n",
       "    </tr>\n",
       "    <tr>\n",
       "      <th>3</th>\n",
       "      <td>T000452361</td>\n",
       "      <td>it had been chanted peacefully you can't deny ...</td>\n",
       "      <td>sarcastic</td>\n",
       "      <td>1</td>\n",
       "    </tr>\n",
       "    <tr>\n",
       "      <th>4</th>\n",
       "      <td>T000452362</td>\n",
       "      <td>there's nothing like being on vacation and hav...</td>\n",
       "      <td>sarcastic</td>\n",
       "      <td>1</td>\n",
       "    </tr>\n",
       "  </tbody>\n",
       "</table>\n",
       "</div>"
      ],
      "text/plain": [
       "           ID                                              tweet      label  \\\n",
       "0  T000452358                           oh yea that make sense '  sarcastic   \n",
       "1  T000452359  Estas enfermedad a un cargo poltico tu como pb...  sarcastic   \n",
       "2  T000452360  until i\\'m and all the old men will finally da...  sarcastic   \n",
       "3  T000452361  it had been chanted peacefully you can't deny ...  sarcastic   \n",
       "4  T000452362  there's nothing like being on vacation and hav...  sarcastic   \n",
       "\n",
       "   label1  \n",
       "0       1  \n",
       "1       1  \n",
       "2       1  \n",
       "3       1  \n",
       "4       1  "
      ]
     },
     "execution_count": 122,
     "metadata": {},
     "output_type": "execute_result"
    }
   ],
   "source": [
    "# Removing @name, b', b\", ist, mar, https, &amp, \\r, \\n\n",
    "\n",
    "regex1 = re.compile(\"@[\\w_\\d]*|b'|b\\\"|ist|https[\\w]*|&amp|\\r|\\n\", re.IGNORECASE)\n",
    "data['tweet'] = [re.sub(regex1,\" \",doc) for doc in data['tweet']]\n",
    "\n",
    "regex2 = re.compile(\"#sarcasm[\\w]*\",re.IGNORECASE)\n",
    "data['tweet'] = [re.sub(regex2,\"#sarcasm\",doc) for doc in data['tweet']]\n",
    "\n",
    "regex3 = re.compile(\"#hypocrisy[\\w]*\",re.IGNORECASE)\n",
    "data['tweet'] = [re.sub(regex3,\"#hypocrisy\",doc) for doc in data['tweet']]\n",
    "\n",
    "# Lemmatizing\n",
    "\n",
    "lemmatizer = WordNetLemmatizer()\n",
    "\n",
    "tweets = [[lemmatizer.lemmatize(word) for word in doc.split()] for doc in data['tweet']]\n",
    "\n",
    "data['tweet'] = [' '.join(doc) for doc in tweets]\n",
    "\n",
    "data[:5]"
   ]
  },
  {
   "cell_type": "code",
   "execution_count": 123,
   "metadata": {},
   "outputs": [
    {
     "data": {
      "text/html": [
       "<div>\n",
       "<style>\n",
       "    .dataframe thead tr:only-child th {\n",
       "        text-align: right;\n",
       "    }\n",
       "\n",
       "    .dataframe thead th {\n",
       "        text-align: left;\n",
       "    }\n",
       "\n",
       "    .dataframe tbody tr th {\n",
       "        vertical-align: top;\n",
       "    }\n",
       "</style>\n",
       "<table border=\"1\" class=\"dataframe\">\n",
       "  <thead>\n",
       "    <tr style=\"text-align: right;\">\n",
       "      <th></th>\n",
       "      <th>ID</th>\n",
       "      <th>tweet</th>\n",
       "      <th>label</th>\n",
       "      <th>label1</th>\n",
       "      <th>char_count</th>\n",
       "      <th>word_count</th>\n",
       "      <th>word_density</th>\n",
       "      <th>punctuation_count</th>\n",
       "    </tr>\n",
       "  </thead>\n",
       "  <tbody>\n",
       "    <tr>\n",
       "      <th>0</th>\n",
       "      <td>T000452358</td>\n",
       "      <td>oh yea that make sense '</td>\n",
       "      <td>sarcastic</td>\n",
       "      <td>1</td>\n",
       "      <td>24</td>\n",
       "      <td>6</td>\n",
       "      <td>3.428571</td>\n",
       "      <td>1</td>\n",
       "    </tr>\n",
       "    <tr>\n",
       "      <th>1</th>\n",
       "      <td>T000452359</td>\n",
       "      <td>Estas enfermedad a un cargo poltico tu como pb...</td>\n",
       "      <td>sarcastic</td>\n",
       "      <td>1</td>\n",
       "      <td>70</td>\n",
       "      <td>10</td>\n",
       "      <td>6.363636</td>\n",
       "      <td>2</td>\n",
       "    </tr>\n",
       "    <tr>\n",
       "      <th>2</th>\n",
       "      <td>T000452360</td>\n",
       "      <td>until i\\'m and all the old men will finally da...</td>\n",
       "      <td>sarcastic</td>\n",
       "      <td>1</td>\n",
       "      <td>71</td>\n",
       "      <td>14</td>\n",
       "      <td>4.733333</td>\n",
       "      <td>3</td>\n",
       "    </tr>\n",
       "  </tbody>\n",
       "</table>\n",
       "</div>"
      ],
      "text/plain": [
       "           ID                                              tweet      label  \\\n",
       "0  T000452358                           oh yea that make sense '  sarcastic   \n",
       "1  T000452359  Estas enfermedad a un cargo poltico tu como pb...  sarcastic   \n",
       "2  T000452360  until i\\'m and all the old men will finally da...  sarcastic   \n",
       "\n",
       "   label1  char_count  word_count  word_density  punctuation_count  \n",
       "0       1          24           6      3.428571                  1  \n",
       "1       1          70          10      6.363636                  2  \n",
       "2       1          71          14      4.733333                  3  "
      ]
     },
     "execution_count": 123,
     "metadata": {},
     "output_type": "execute_result"
    }
   ],
   "source": [
    "#Creating character count, word count, word density, punctuation count as features\n",
    "\n",
    "data['char_count'] = data['tweet'].apply(len)\n",
    "data['word_count'] = data['tweet'].apply(lambda x: len(x.split()))\n",
    "data['word_density'] = data['char_count'] / (data['word_count']+1)\n",
    "data['punctuation_count'] = data['tweet'].apply(lambda x: len(\"\".join(_ for _ in x if _ in string.punctuation))) \n",
    "\n",
    "data[:3]"
   ]
  },
  {
   "cell_type": "code",
   "execution_count": 124,
   "metadata": {},
   "outputs": [
    {
     "data": {
      "text/html": [
       "<div>\n",
       "<style>\n",
       "    .dataframe thead tr:only-child th {\n",
       "        text-align: right;\n",
       "    }\n",
       "\n",
       "    .dataframe thead th {\n",
       "        text-align: left;\n",
       "    }\n",
       "\n",
       "    .dataframe tbody tr th {\n",
       "        vertical-align: top;\n",
       "    }\n",
       "</style>\n",
       "<table border=\"1\" class=\"dataframe\">\n",
       "  <thead>\n",
       "    <tr style=\"text-align: right;\">\n",
       "      <th></th>\n",
       "      <th>ID</th>\n",
       "      <th>tweet</th>\n",
       "      <th>label</th>\n",
       "      <th>label1</th>\n",
       "      <th>char_count</th>\n",
       "      <th>word_count</th>\n",
       "      <th>word_density</th>\n",
       "      <th>punctuation_count</th>\n",
       "      <th>sarcasm_flag</th>\n",
       "      <th>hypocrisy_flag</th>\n",
       "      <th>seriously_flag</th>\n",
       "      <th>not_flag</th>\n",
       "      <th>sar_flag</th>\n",
       "      <th>haha_flag</th>\n",
       "    </tr>\n",
       "  </thead>\n",
       "  <tbody>\n",
       "    <tr>\n",
       "      <th>0</th>\n",
       "      <td>T000452358</td>\n",
       "      <td>oh yea that make sense '</td>\n",
       "      <td>sarcastic</td>\n",
       "      <td>1</td>\n",
       "      <td>24</td>\n",
       "      <td>6</td>\n",
       "      <td>3.428571</td>\n",
       "      <td>1</td>\n",
       "      <td>0</td>\n",
       "      <td>0</td>\n",
       "      <td>0</td>\n",
       "      <td>0</td>\n",
       "      <td>0</td>\n",
       "      <td>0</td>\n",
       "    </tr>\n",
       "    <tr>\n",
       "      <th>1</th>\n",
       "      <td>T000452359</td>\n",
       "      <td>Estas enfermedad a un cargo poltico tu como pb...</td>\n",
       "      <td>sarcastic</td>\n",
       "      <td>1</td>\n",
       "      <td>70</td>\n",
       "      <td>10</td>\n",
       "      <td>6.363636</td>\n",
       "      <td>2</td>\n",
       "      <td>0</td>\n",
       "      <td>0</td>\n",
       "      <td>0</td>\n",
       "      <td>0</td>\n",
       "      <td>0</td>\n",
       "      <td>0</td>\n",
       "    </tr>\n",
       "    <tr>\n",
       "      <th>2</th>\n",
       "      <td>T000452360</td>\n",
       "      <td>until i\\'m and all the old men will finally da...</td>\n",
       "      <td>sarcastic</td>\n",
       "      <td>1</td>\n",
       "      <td>71</td>\n",
       "      <td>14</td>\n",
       "      <td>4.733333</td>\n",
       "      <td>3</td>\n",
       "      <td>1</td>\n",
       "      <td>0</td>\n",
       "      <td>0</td>\n",
       "      <td>0</td>\n",
       "      <td>0</td>\n",
       "      <td>0</td>\n",
       "    </tr>\n",
       "  </tbody>\n",
       "</table>\n",
       "</div>"
      ],
      "text/plain": [
       "           ID                                              tweet      label  \\\n",
       "0  T000452358                           oh yea that make sense '  sarcastic   \n",
       "1  T000452359  Estas enfermedad a un cargo poltico tu como pb...  sarcastic   \n",
       "2  T000452360  until i\\'m and all the old men will finally da...  sarcastic   \n",
       "\n",
       "   label1  char_count  word_count  word_density  punctuation_count  \\\n",
       "0       1          24           6      3.428571                  1   \n",
       "1       1          70          10      6.363636                  2   \n",
       "2       1          71          14      4.733333                  3   \n",
       "\n",
       "   sarcasm_flag  hypocrisy_flag  seriously_flag  not_flag  sar_flag  haha_flag  \n",
       "0             0               0               0         0         0          0  \n",
       "1             0               0               0         0         0          0  \n",
       "2             1               0               0         0         0          0  "
      ]
     },
     "execution_count": 124,
     "metadata": {},
     "output_type": "execute_result"
    }
   ],
   "source": [
    "# Creating certain flags based on the word as features\n",
    "\n",
    "data['sarcasm_flag'] = np.where(data['tweet'].str.contains('#sarcasm'),1,0)\n",
    "data['hypocrisy_flag'] = np.where(data['tweet'].str.contains('#hypocrisy'),1,0)\n",
    "data['seriously_flag'] = np.where(data['tweet'].str.contains('#seriously'),1,0)\n",
    "data['not_flag'] = np.where(data['tweet'].str.contains('#not'),1,0)\n",
    "data['sar_flag'] = np.where(data['tweet'].str.contains('$$SAR$$'),1,0)\n",
    "data['haha_flag'] = np.where(data['tweet'].str.contains('haha'),1,0)\n",
    "data[:3]"
   ]
  },
  {
   "cell_type": "code",
   "execution_count": null,
   "metadata": {
    "collapsed": true
   },
   "outputs": [],
   "source": [
    "# Adding Frequency distribution of Part of Speech Tags. Takes a lot of time to run. And did not increase accuracy\n",
    "\n",
    "pos_family = {\n",
    "    'noun' : ['NN','NNS','NNP','NNPS'],\n",
    "    'pron' : ['PRP','PRP$','WP','WP$'],\n",
    "    'verb' : ['VB','VBD','VBG','VBN','VBP','VBZ'],\n",
    "    'adj' :  ['JJ','JJR','JJS'],\n",
    "    'adv' : ['RB','RBR','RBS','WRB']\n",
    "}\n",
    "\n",
    "# function to check and get the part of speech tag count of a words in a given sentence\n",
    "def check_pos_tag(x, flag):\n",
    "    cnt = 0\n",
    "   \n",
    "    wiki = textblob.TextBlob(x)\n",
    "\n",
    "    for tup in wiki.tags:\n",
    "        ppo = list(tup)[1]\n",
    "        if ppo in pos_family[flag]:\n",
    "            cnt += 1\n",
    "   \n",
    "    return cnt\n",
    "\n",
    "data['noun_count'] = data['tweet'].apply(lambda x: check_pos_tag(x, 'noun'))\n",
    "data['verb_count'] = data['tweet'].apply(lambda x: check_pos_tag(x, 'verb'))\n",
    "data['adj_count'] = data['tweet'].apply(lambda x: check_pos_tag(x, 'adj'))\n",
    "data['adv_count'] = data['tweet'].apply(lambda x: check_pos_tag(x, 'adv'))\n",
    "data['pron_count'] = data['tweet'].apply(lambda x: check_pos_tag(x, 'pron'))"
   ]
  },
  {
   "cell_type": "code",
   "execution_count": 125,
   "metadata": {
    "collapsed": true
   },
   "outputs": [],
   "source": [
    "# Keeping only words, spaces\n",
    "\n",
    "data['tweet'] = [re.sub(\"[^\\w\\s]\", '', doc).lower() for doc in data['tweet']]\n",
    "data['tweet'] = [re.sub(\" \\d+\", \" \", doc) for doc in data['tweet']]\n",
    "\n",
    "# Defining set of stopwords\n",
    "\n",
    "stopwords=['is','am','are','was','has','had','have','be','do','does','did','in','the','a','an','and','by','for',\n",
    "              'of','i','im','he','she','me','you','your','they','them','this','that','these','those']\n",
    "\n",
    "data['tweet'] = data['tweet'].map(lambda x :\" \".join(word for word in word_tokenize(x) if word not in stopwords and len(word)>=3))\n",
    "\n"
   ]
  },
  {
   "cell_type": "code",
   "execution_count": 50,
   "metadata": {
    "collapsed": true
   },
   "outputs": [],
   "source": [
    "# Adding sentiment as a feature. Did not improve the performance after adding, hence not considering as a feature\n",
    "\n",
    "sid = SentimentIntensityAnalyzer()\n",
    "\n",
    "def vaderSentiment(sentence):\n",
    "    sent_score = 0\n",
    "   \n",
    "    pos = neg =neu = sent_score= 0\n",
    "\n",
    "    if sentence=='':\n",
    "        return 0\n",
    "    else:\n",
    "        sent_score = sid.polarity_scores(sentence)\n",
    "        neg = sent_score['neg']\n",
    "        pos = sent_score['pos']\n",
    "        neu = sent_score['neu']\n",
    "\n",
    "        if pos>=neg and pos>=neu:\n",
    "            sent_score = 1\n",
    "        elif neu>=pos and neu>= neg:\n",
    "            sent_score = 0\n",
    "        else:\n",
    "            sent_score = -1\n",
    "        \n",
    "    return sent_score\n",
    "\n",
    "#data['sentiment'] = [vaderSentiment(doc) for doc in data['tweet']]"
   ]
  },
  {
   "cell_type": "code",
   "execution_count": 126,
   "metadata": {},
   "outputs": [
    {
     "data": {
      "text/plain": [
       "TfidfVectorizer(analyzer='char', binary=False, decode_error=u'strict',\n",
       "        dtype=<type 'numpy.int64'>, encoding=u'utf-8', input=u'content',\n",
       "        lowercase=True, max_df=1.0, max_features=5000, min_df=1,\n",
       "        ngram_range=(2, 3), norm=u'l2', preprocessor=None, smooth_idf=True,\n",
       "        stop_words=None, strip_accents=None, sublinear_tf=False,\n",
       "        token_pattern='\\\\w{1,}', tokenizer=None, use_idf=True,\n",
       "        vocabulary=None)"
      ]
     },
     "execution_count": 126,
     "metadata": {},
     "output_type": "execute_result"
    }
   ],
   "source": [
    "#Initializing the vectorizer\n",
    "\n",
    "#count_vect = CountVectorizer(ngram_range=(1,2),max_features=25000)\n",
    "\n",
    "#count_vect.fit(data['tweet'])\n",
    "\n",
    "# Tfidf vectorizer performed better \n",
    "\n",
    "tf_idf_vect = TfidfVectorizer(analyzer='word',ngram_range=(1,2),max_features=25000)\n",
    "\n",
    "tf_idf_vect.fit(data['tweet'])\n",
    "\n",
    "# Characters and their ngrams as features\n",
    "\n",
    "tfidf_vect_chars = TfidfVectorizer(analyzer='char', token_pattern=r'\\w{1,}', ngram_range=(2,3), max_features=5000)\n",
    "tfidf_vect_chars.fit(data['tweet'])"
   ]
  },
  {
   "cell_type": "code",
   "execution_count": 127,
   "metadata": {
    "collapsed": true
   },
   "outputs": [],
   "source": [
    "X = data['tweet']\n",
    "Y = data['label1']"
   ]
  },
  {
   "cell_type": "code",
   "execution_count": 128,
   "metadata": {
    "collapsed": true
   },
   "outputs": [],
   "source": [
    "# Splitting the data\n",
    "trainX, testX, trainY, testY =  train_test_split(X, Y, test_size = .3, random_state = 150)"
   ]
  },
  {
   "cell_type": "code",
   "execution_count": 129,
   "metadata": {
    "collapsed": true
   },
   "outputs": [],
   "source": [
    "#Transforming the words to vectors\n",
    "X_train_tfidf_feature = tf_idf_vect.transform(trainX)\n",
    "\n",
    "X_test_tfidf_feature = tf_idf_vect.transform(testX)\n",
    "\n",
    "X_train_tfidf_char_feature = tfidf_vect_chars.transform(trainX)\n",
    "\n",
    "X_test_tfidf_char_feature = tfidf_vect_chars.transform(testX)"
   ]
  },
  {
   "cell_type": "code",
   "execution_count": 130,
   "metadata": {},
   "outputs": [
    {
     "data": {
      "text/plain": [
       "<63908x25010 sparse matrix of type '<type 'numpy.float64'>'\n",
       "\twith 841907 stored elements in COOrdinate format>"
      ]
     },
     "execution_count": 130,
     "metadata": {},
     "output_type": "execute_result"
    }
   ],
   "source": [
    "full_train_feats = hstack([X_train_tfidf_feature, np.array(data[data.index.isin(trainX.index)].iloc[:, 4:])])\n",
    "full_train_feats\n",
    "#len(tf_idf_vect.get_feature_names() + list(data.iloc[:, 4:].columns))"
   ]
  },
  {
   "cell_type": "code",
   "execution_count": 131,
   "metadata": {},
   "outputs": [
    {
     "data": {
      "text/plain": [
       "<27390x25010 sparse matrix of type '<type 'numpy.float64'>'\n",
       "\twith 362006 stored elements in COOrdinate format>"
      ]
     },
     "execution_count": 131,
     "metadata": {},
     "output_type": "execute_result"
    }
   ],
   "source": [
    "full_test_feats = hstack([X_test_tfidf_feature, np.array(data[data.index.isin(testX.index)].iloc[:, 4:])])\n",
    "full_test_feats"
   ]
  },
  {
   "cell_type": "code",
   "execution_count": 132,
   "metadata": {},
   "outputs": [
    {
     "data": {
      "text/plain": [
       "MultinomialNB(alpha=1.0, class_prior=None, fit_prior=True)"
      ]
     },
     "execution_count": 132,
     "metadata": {},
     "output_type": "execute_result"
    }
   ],
   "source": [
    "#Initializing the classfier\n",
    "NB = MultinomialNB()\n",
    "\n",
    "#Fitting the model with the x and y values\n",
    "NB.fit(full_train_feats,trainY)"
   ]
  },
  {
   "cell_type": "code",
   "execution_count": 133,
   "metadata": {
    "collapsed": true
   },
   "outputs": [],
   "source": [
    "#test with Naive-Bayes\n",
    "test_prediction = NB.predict(full_test_feats)"
   ]
  },
  {
   "cell_type": "code",
   "execution_count": 134,
   "metadata": {},
   "outputs": [
    {
     "name": "stdout",
     "output_type": "stream",
     "text": [
      "Accuracy Score :  0.873932092004 \n",
      "Precision score :  0.862325015216 \n",
      "Recall score :  0.922455889055\n"
     ]
    }
   ],
   "source": [
    "print  \"Accuracy Score : \",accuracy_score(testY,test_prediction),\\\n",
    "\"\\nPrecision score : \",precision_score(testY,test_prediction),\"\\nRecall score : \",recall_score(testY,test_prediction)"
   ]
  },
  {
   "cell_type": "code",
   "execution_count": 135,
   "metadata": {},
   "outputs": [
    {
     "name": "stdout",
     "output_type": "stream",
     "text": [
      "             precision    recall  f1-score   support\n",
      "\n",
      "          0       0.89      0.81      0.85     12031\n",
      "          1       0.86      0.92      0.89     15359\n",
      "\n",
      "avg / total       0.88      0.87      0.87     27390\n",
      "\n"
     ]
    }
   ],
   "source": [
    "# Performance metrics by target variable\n",
    "print metrics.classification_report(testY,test_prediction)"
   ]
  },
  {
   "cell_type": "code",
   "execution_count": 136,
   "metadata": {},
   "outputs": [
    {
     "data": {
      "text/plain": [
       "LogisticRegression(C=1.0, class_weight=None, dual=False, fit_intercept=True,\n",
       "          intercept_scaling=1, max_iter=100, multi_class='ovr', n_jobs=1,\n",
       "          penalty='l2', random_state=None, solver='liblinear', tol=0.0001,\n",
       "          verbose=0, warm_start=False)"
      ]
     },
     "execution_count": 136,
     "metadata": {},
     "output_type": "execute_result"
    }
   ],
   "source": [
    "LR = LogisticRegression()\n",
    "#Fitting the model with the x and y values\n",
    "LR.fit(full_train_feats,trainY)"
   ]
  },
  {
   "cell_type": "code",
   "execution_count": 137,
   "metadata": {
    "collapsed": true
   },
   "outputs": [],
   "source": [
    "#test with Logistic\n",
    "test_prediction_lr = LR.predict(full_test_feats)"
   ]
  },
  {
   "cell_type": "code",
   "execution_count": 138,
   "metadata": {},
   "outputs": [
    {
     "name": "stdout",
     "output_type": "stream",
     "text": [
      "Accuracy Score :  0.877802117561 \n",
      "Precision score :  0.886287625418 \n",
      "Recall score :  0.897193827723\n"
     ]
    }
   ],
   "source": [
    "print  \"Accuracy Score : \",accuracy_score(testY,test_prediction_lr),\\\n",
    "\"\\nPrecision score : \",precision_score(testY,test_prediction_lr),\"\\nRecall score : \",recall_score(testY,test_prediction_lr)"
   ]
  },
  {
   "cell_type": "code",
   "execution_count": 139,
   "metadata": {},
   "outputs": [
    {
     "name": "stdout",
     "output_type": "stream",
     "text": [
      "             precision    recall  f1-score   support\n",
      "\n",
      "          0       0.87      0.85      0.86     12031\n",
      "          1       0.89      0.90      0.89     15359\n",
      "\n",
      "avg / total       0.88      0.88      0.88     27390\n",
      "\n"
     ]
    }
   ],
   "source": [
    "# Performance metrics by target variable\n",
    "print metrics.classification_report(testY,test_prediction_lr)"
   ]
  },
  {
   "cell_type": "code",
   "execution_count": 140,
   "metadata": {},
   "outputs": [
    {
     "data": {
      "text/plain": [
       "RandomForestClassifier(bootstrap=True, class_weight='balanced',\n",
       "            criterion='gini', max_depth=None, max_features='auto',\n",
       "            max_leaf_nodes=None, min_impurity_decrease=0.0,\n",
       "            min_impurity_split=None, min_samples_leaf=1,\n",
       "            min_samples_split=2, min_weight_fraction_leaf=0.0,\n",
       "            n_estimators=10, n_jobs=1, oob_score=False, random_state=1,\n",
       "            verbose=0, warm_start=False)"
      ]
     },
     "execution_count": 140,
     "metadata": {},
     "output_type": "execute_result"
    }
   ],
   "source": [
    "rf = RandomForestClassifier(class_weight='balanced',random_state = 1,n_estimators=10)\n",
    "rf.fit(full_train_feats,trainY)"
   ]
  },
  {
   "cell_type": "code",
   "execution_count": 141,
   "metadata": {
    "collapsed": true
   },
   "outputs": [],
   "source": [
    "#test with Random forest\n",
    "test_prediction_rf = rf.predict(full_test_feats)"
   ]
  },
  {
   "cell_type": "code",
   "execution_count": 142,
   "metadata": {},
   "outputs": [
    {
     "name": "stdout",
     "output_type": "stream",
     "text": [
      "Accuracy Score :  0.84556407448 \n",
      "Precision score :  0.883467714148 \n",
      "Recall score :  0.834689758448\n"
     ]
    }
   ],
   "source": [
    "print  \"Accuracy Score : \",accuracy_score(testY,test_prediction_rf),\\\n",
    "\"\\nPrecision score : \",precision_score(testY,test_prediction_rf),\"\\nRecall score : \",recall_score(testY,test_prediction_rf)"
   ]
  },
  {
   "cell_type": "code",
   "execution_count": 143,
   "metadata": {},
   "outputs": [
    {
     "data": {
      "text/plain": [
       "GradientBoostingClassifier(criterion='friedman_mse', init=None,\n",
       "              learning_rate=0.1, loss='deviance', max_depth=3,\n",
       "              max_features=None, max_leaf_nodes=None,\n",
       "              min_impurity_decrease=0.0, min_impurity_split=None,\n",
       "              min_samples_leaf=1, min_samples_split=2,\n",
       "              min_weight_fraction_leaf=0.0, n_estimators=100,\n",
       "              presort='auto', random_state=None, subsample=1.0, verbose=0,\n",
       "              warm_start=False)"
      ]
     },
     "execution_count": 143,
     "metadata": {},
     "output_type": "execute_result"
    }
   ],
   "source": [
    "GB = GradientBoostingClassifier()\n",
    "#Fitting the model with the x and y values\n",
    "GB.fit(full_train_feats,trainY)"
   ]
  },
  {
   "cell_type": "code",
   "execution_count": 144,
   "metadata": {
    "collapsed": true
   },
   "outputs": [],
   "source": [
    "#test with GBM\n",
    "test_prediction_gbm = GB.predict(full_test_feats)"
   ]
  },
  {
   "cell_type": "code",
   "execution_count": 145,
   "metadata": {},
   "outputs": [
    {
     "name": "stdout",
     "output_type": "stream",
     "text": [
      "Accuracy Score :  0.777327491785 \n",
      "Precision score :  0.874050735175 \n",
      "Recall score :  0.704407839052\n"
     ]
    }
   ],
   "source": [
    "print  \"Accuracy Score : \",accuracy_score(testY,test_prediction_gbm),\\\n",
    "\"\\nPrecision score : \",precision_score(testY,test_prediction_gbm),\"\\nRecall score : \",recall_score(testY,test_prediction_gbm)"
   ]
  }
 ],
 "metadata": {
  "kernelspec": {
   "display_name": "Python 3",
   "language": "python",
   "name": "python3"
  },
  "language_info": {
   "codemirror_mode": {
    "name": "ipython",
    "version": 3
   },
   "file_extension": ".py",
   "mimetype": "text/x-python",
   "name": "python",
   "nbconvert_exporter": "python",
   "pygments_lexer": "ipython3",
   "version": "3.6.5"
  }
 },
 "nbformat": 4,
 "nbformat_minor": 2
}
